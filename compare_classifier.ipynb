{
 "cells": [
  {
   "cell_type": "code",
   "execution_count": 10,
   "metadata": {},
   "outputs": [],
   "source": [
    "from sklearn.model_selection import StratifiedKFold\n",
    "from sklearn import tree\n",
    "from sklearn.metrics import precision_recall_fscore_support\n",
    "import pandas as pd\n",
    "import numpy as np\n",
    "\n",
    "df=pd.read_csv('I_examples.csv')\n",
    "df = df.drop(['string', 'doc_id', 'word_loc'], axis =1)\n",
    "feature_data = df.drop(['label'], axis = 1)\n",
    "feature_data = feature_data.values\n",
    "label_data = df['label'].values"
   ]
  },
  {
   "cell_type": "markdown",
   "metadata": {},
   "source": [
    "<H2>Feature Data"
   ]
  },
  {
   "cell_type": "code",
   "execution_count": 11,
   "metadata": {},
   "outputs": [
    {
     "data": {
      "text/plain": [
       "array([[ 6,  1,  0, ...,  1,  0,  1],\n",
       "       [15,  2,  0, ...,  1,  0,  0],\n",
       "       [ 8,  1,  0, ...,  1,  1,  0],\n",
       "       ..., \n",
       "       [ 7,  1,  0, ...,  1,  0,  1],\n",
       "       [12,  1,  0, ...,  1,  0,  1],\n",
       "       [ 3,  1,  0, ...,  0,  0,  0]])"
      ]
     },
     "execution_count": 11,
     "metadata": {},
     "output_type": "execute_result"
    }
   ],
   "source": [
    "feature_data"
   ]
  },
  {
   "cell_type": "markdown",
   "metadata": {},
   "source": [
    "<H2>Label Data"
   ]
  },
  {
   "cell_type": "code",
   "execution_count": 12,
   "metadata": {},
   "outputs": [
    {
     "data": {
      "text/plain": [
       "array([0, 1, 0, ..., 0, 0, 0])"
      ]
     },
     "execution_count": 12,
     "metadata": {},
     "output_type": "execute_result"
    }
   ],
   "source": [
    "label_data"
   ]
  },
  {
   "cell_type": "markdown",
   "metadata": {},
   "source": [
    "<H2>Decision Tree Classifier"
   ]
  },
  {
   "cell_type": "code",
   "execution_count": 13,
   "metadata": {},
   "outputs": [
    {
     "name": "stdout",
     "output_type": "stream",
     "text": [
      "0.904771990817 0.887686456665 0.895835913313\n",
      "0.888808037346 0.887084017233 0.887941776092\n",
      "0.903625955296 0.909530492279 0.906530540398\n",
      "0.920907586336 0.922150435319 0.921527019077\n",
      "0.931217247413 0.934392914255 0.932792465587\n",
      "0.910239210676 0.90535545622 0.907765631688\n",
      "0.929338947065 0.918401008108 0.923720393055\n",
      "0.923415807576 0.926534021303 0.924962461577\n",
      "0.908691726283 0.911101460728 0.909888809893\n",
      "0.887915234822 0.891908367857 0.889888900098\n",
      "\n",
      "\n",
      "Average Precision: 0.910893174363\n",
      "Average Recall: 0.909414462997\n",
      "Average fscore: 0.910085391078\n"
     ]
    }
   ],
   "source": [
    "decisiontree_classifier = tree.DecisionTreeClassifier()\n",
    "n_splits = 10\n",
    "skf = StratifiedKFold(n_splits,random_state=1)\n",
    "skf.get_n_splits(feature_data,label_data)\n",
    "precision_list = []\n",
    "recall_list = []\n",
    "fscore_list = []\n",
    "for train_index, test_index in skf.split(feature_data,label_data):\n",
    "    decisiontree_classifier.fit(feature_data[train_index],label_data[train_index])\n",
    "    y_pred = decisiontree_classifier.predict(feature_data[test_index])\n",
    "    precision,recall,fscore,support = precision_recall_fscore_support(label_data[test_index],y_pred, average='macro')\n",
    "    print(precision,recall,fscore)\n",
    "    precision_list.append(precision)\n",
    "    recall_list.append(recall)\n",
    "    fscore_list.append(fscore)\n",
    "print(\"\\n\\nAverage Precision: \"+ str(sum(precision_list)/n_splits)+\n",
    "      \"\\nAverage Recall: \" + str(sum(recall_list)/n_splits)+\n",
    "      \"\\nAverage fscore: \"+ str(sum(fscore_list)/n_splits))\n"
   ]
  },
  {
   "cell_type": "markdown",
   "metadata": {},
   "source": [
    "<H2>Random Forest Classifier"
   ]
  },
  {
   "cell_type": "code",
   "execution_count": 21,
   "metadata": {},
   "outputs": [
    {
     "name": "stdout",
     "output_type": "stream",
     "text": [
      "0.907651110759 0.877697019725 0.891481306772\n",
      "0.893622916906 0.887772874313 0.890649827471\n",
      "0.914864732037 0.918517714884 0.916673635308\n",
      "0.925468496818 0.923576561959 0.92451798444\n",
      "0.939396397294 0.94327639737 0.941318009892\n",
      "0.920181200453 0.912020844828 0.916015329334\n",
      "0.923180774618 0.911112565812 0.916961248583\n",
      "0.929269963435 0.929269963435 0.929269963435\n",
      "0.917509685879 0.909401213844 0.913370142856\n",
      "0.890461796985 0.892764043841 0.891605380016\n",
      "\n",
      "\n",
      "Average Precision: 0.916160707518\n",
      "Average Recall: 0.910540920001\n",
      "Average fscore: 0.913186282811\n"
     ]
    }
   ],
   "source": [
    "from sklearn.ensemble import RandomForestClassifier\n",
    "randomforest_classifier = RandomForestClassifier()\n",
    "precision_list = []\n",
    "recall_list = []\n",
    "fscore_list = []\n",
    "for train_index, test_index in skf.split(feature_data,label_data):\n",
    "    randomforest_classifier.fit(feature_data[train_index],label_data[train_index])\n",
    "    y_pred = randomforest_classifier.predict(feature_data[test_index])\n",
    "    precision,recall,fscore,support = precision_recall_fscore_support(label_data[test_index], y_pred, average='macro')\n",
    "    print(precision,recall,fscore)\n",
    "    precision_list.append(precision)\n",
    "    recall_list.append(recall)\n",
    "    fscore_list.append(fscore)\n",
    "print(\"\\n\\nAverage Precision: \"+ str(sum(precision_list)/n_splits)+\n",
    "      \"\\nAverage Recall: \" + str(sum(recall_list)/n_splits)+\n",
    "      \"\\nAverage fscore: \"+ str(sum(fscore_list)/n_splits))\n"
   ]
  },
  {
   "cell_type": "markdown",
   "metadata": {},
   "source": [
    "<H2>SVM Classifier"
   ]
  },
  {
   "cell_type": "code",
   "execution_count": 15,
   "metadata": {},
   "outputs": [
    {
     "name": "stdout",
     "output_type": "stream",
     "text": [
      "0.916697568641 0.874697740251 0.893424549277\n",
      "0.903111041737 0.891647622481 0.89720083716\n",
      "0.912005649718 0.901538933549 0.906627563834\n",
      "0.911670440891 0.916509636875 0.91405890474\n",
      "0.923015242159 0.925509431139 0.924254361939\n",
      "0.908522053037 0.882307730074 0.894504006238\n",
      "0.917543955246 0.903084758681 0.910043807314\n",
      "0.91032706437 0.918727731383 0.914432989691\n",
      "0.895702148389 0.887419575809 0.891465460215\n",
      "0.884145154821 0.878419781545 0.881235028512\n",
      "\n",
      "\n",
      "Average Precision: 0.908274031901\n",
      "Average Recall: 0.897986294179\n",
      "Average fscore: 0.902724750892\n"
     ]
    }
   ],
   "source": [
    "from sklearn import svm\n",
    "svm_clf = svm.SVC()\n",
    "precision_list = []\n",
    "recall_list = []\n",
    "fscore_list = []\n",
    "for train_index, test_index in skf.split(feature_data,label_data):\n",
    "    svm_clf.fit(feature_data[train_index],label_data[train_index])\n",
    "    y_pred = svm_clf.predict(feature_data[test_index])\n",
    "    precision,recall,fscore,support = precision_recall_fscore_support(label_data[test_index], y_pred, average='macro')\n",
    "    print(precision,recall,fscore)\n",
    "    precision_list.append(precision)\n",
    "    recall_list.append(recall)\n",
    "    fscore_list.append(fscore)\n",
    "print(\"\\n\\nAverage Precision: \"+ str(sum(precision_list)/n_splits)+\n",
    "      \"\\nAverage Recall: \" + str(sum(recall_list)/n_splits)+\n",
    "      \"\\nAverage fscore: \"+ str(sum(fscore_list)/n_splits))\n"
   ]
  },
  {
   "cell_type": "markdown",
   "metadata": {},
   "source": [
    "<H2>Linear Regression"
   ]
  },
  {
   "cell_type": "code",
   "execution_count": null,
   "metadata": {
    "collapsed": true
   },
   "outputs": [],
   "source": []
  }
 ],
 "metadata": {
  "kernelspec": {
   "display_name": "Python 3",
   "language": "python",
   "name": "python3"
  },
  "language_info": {
   "codemirror_mode": {
    "name": "ipython",
    "version": 3
   },
   "file_extension": ".py",
   "mimetype": "text/x-python",
   "name": "python",
   "nbconvert_exporter": "python",
   "pygments_lexer": "ipython3",
   "version": "3.6.1"
  }
 },
 "nbformat": 4,
 "nbformat_minor": 2
}
