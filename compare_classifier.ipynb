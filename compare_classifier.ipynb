{
 "cells": [
  {
   "cell_type": "code",
   "execution_count": 203,
   "metadata": {},
   "outputs": [],
   "source": [
    "from sklearn.model_selection import StratifiedKFold\n",
    "from sklearn import tree\n",
    "from sklearn.metrics import precision_recall_fscore_support\n",
    "\n",
    "df=pd.read_csv('data.csv')\n",
    "feature_data = df.drop(['label'], axis = 1)\n",
    "feature_data = feature_data.values\n",
    "label_data = df['label'].values"
   ]
  },
  {
   "cell_type": "markdown",
   "metadata": {},
   "source": [
    "<H2>Feature Data"
   ]
  },
  {
   "cell_type": "code",
   "execution_count": 202,
   "metadata": {},
   "outputs": [
    {
     "data": {
      "text/plain": [
       "array([[ 6,  1,  0, ...,  0,  0,  1],\n",
       "       [15,  2,  0, ...,  0,  1,  1],\n",
       "       [ 8,  1,  0, ...,  0,  0,  1],\n",
       "       ..., \n",
       "       [ 7,  1,  0, ...,  1,  0,  1],\n",
       "       [12,  1,  0, ...,  1,  0,  1],\n",
       "       [ 3,  1,  0, ...,  0,  0,  0]])"
      ]
     },
     "execution_count": 202,
     "metadata": {},
     "output_type": "execute_result"
    }
   ],
   "source": [
    "feature_data"
   ]
  },
  {
   "cell_type": "markdown",
   "metadata": {},
   "source": [
    "<H2>Label Data"
   ]
  },
  {
   "cell_type": "code",
   "execution_count": 204,
   "metadata": {},
   "outputs": [
    {
     "data": {
      "text/plain": [
       "array([0, 1, 0, ..., 0, 0, 0])"
      ]
     },
     "execution_count": 204,
     "metadata": {},
     "output_type": "execute_result"
    }
   ],
   "source": [
    "label_data"
   ]
  },
  {
   "cell_type": "markdown",
   "metadata": {},
   "source": [
    "<H2>Decision Tree Classifier"
   ]
  },
  {
   "cell_type": "code",
   "execution_count": 212,
   "metadata": {},
   "outputs": [
    {
     "name": "stdout",
     "output_type": "stream",
     "text": [
      "(0.9044135459152145, 0.88041111386256599, 0.89163906955131744, None)\n",
      "(0.89673952818911462, 0.87813709453340172, 0.88696133152310552, None)\n",
      "(0.9079985337496137, 0.91278740593221419, 0.91036216431753969, None)\n",
      "(0.9230395318398239, 0.91483646476025715, 0.91885226777483808, None)\n",
      "(0.93773354084730198, 0.93643521840837285, 0.93708232219525855, None)\n",
      "(0.92173728813559319, 0.91162021547265115, 0.91654817487266549, None)\n",
      "(0.92210144927536231, 0.91896417953568998, 0.92052023586068077, None)\n",
      "(0.91328232305002266, 0.91082687163906462, 0.91204667662172878, None)\n",
      "(0.9059853190287972, 0.89870362258734937, 0.9022733417182891, None)\n",
      "(0.88851043047192779, 0.89478350217616187, 0.89159067882472143, None)\n"
     ]
    }
   ],
   "source": [
    "decisiontree_classifier = tree.DecisionTreeClassifier()\n",
    "skf = StratifiedKFold(n_splits=10)\n",
    "skf.get_n_splits(feature_data,label_data)\n",
    "for train_index, test_index in skf.split(feature_data,label_data):\n",
    "    decisiontree_classifier.fit(feature_data[train_index],label_data[train_index])\n",
    "    y_pred = decisiontree_classifier.predict(feature_data[test_index])\n",
    "    print(precision_recall_fscore_support(label_data[test_index], y_pred, average='macro'))\n",
    "    "
   ]
  },
  {
   "cell_type": "markdown",
   "metadata": {},
   "source": [
    "<H2>Random Forest Classifier"
   ]
  },
  {
   "cell_type": "code",
   "execution_count": 213,
   "metadata": {},
   "outputs": [
    {
     "name": "stdout",
     "output_type": "stream",
     "text": [
      "(0.91619388947240954, 0.88558288021521803, 0.89967856518251821, None)\n",
      "(0.89787394181023339, 0.88472605391378956, 0.89106209961468452, None)\n",
      "(0.92262252135827527, 0.92011867683697401, 0.92136258216175937, None)\n",
      "(0.92702112180605045, 0.91421273706593376, 0.92041078608510529, None)\n",
      "(0.93242916490116245, 0.93751922198715731, 0.9349419776249045, None)\n",
      "(0.92863858435606006, 0.91639950046132768, 0.92233203315066969, None)\n",
      "(0.93057767726102547, 0.91696800529361877, 0.92354304836607493, None)\n",
      "(0.92170371328153466, 0.91793958937175557, 0.91980352691997147, None)\n",
      "(0.91597090721294538, 0.90536025498839701, 0.91051941481947996, None)\n",
      "(0.89532692365430222, 0.89882244941704958, 0.89705762958770396, None)\n"
     ]
    }
   ],
   "source": [
    "from sklearn.ensemble import RandomForestClassifier\n",
    "randomforest_classifier = RandomForestClassifier()\n",
    "for train_index, test_index in skf.split(feature_data,label_data):\n",
    "    randomforest_classifier.fit(feature_data[train_index],label_data[train_index])\n",
    "    y_pred = randomforest_classifier.predict(feature_data[test_index])\n",
    "    print(precision_recall_fscore_support(label_data[test_index], y_pred, average='macro'))"
   ]
  },
  {
   "cell_type": "markdown",
   "metadata": {},
   "source": [
    "<H2>SVM Classifier"
   ]
  },
  {
   "cell_type": "code",
   "execution_count": 210,
   "metadata": {},
   "outputs": [
    {
     "name": "stdout",
     "output_type": "stream",
     "text": [
      "(0.91172541362655424, 0.85865853786137558, 0.88152281746031758, None)\n",
      "(0.90001336081844552, 0.88983852835141741, 0.89478428146070144, None)\n",
      "(0.91237883415217103, 0.90438248633088847, 0.90829646520896334, None)\n",
      "(0.91037696070163598, 0.90733545621640843, 0.90884392360407118, None)\n",
      "(0.92050923870431423, 0.91486581887995233, 0.91764667248576426, None)\n",
      "(0.9019343965387131, 0.87228911732634973, 0.8859269537973582, None)\n",
      "(0.91043101030808204, 0.89557043868069597, 0.90270950277344131, None)\n",
      "(0.90655209573788897, 0.91840208203245144, 0.9122872278134837, None)\n",
      "(0.88822254967584457, 0.88242900679409875, 0.88527802425317947, None)\n",
      "(0.87304226973224353, 0.87304226973224353, 0.87304226973224353, None)\n"
     ]
    }
   ],
   "source": [
    "from sklearn import svm\n",
    "svm_clf = svm.SVC()\n",
    "for train_index, test_index in skf.split(feature_data,label_data):\n",
    "    svm_clf.fit(feature_data[train_index],label_data[train_index])\n",
    "    y_pred = svm_clf.predict(feature_data[test_index])\n",
    "    print(precision_recall_fscore_support(label_data[test_index], y_pred, average='macro'))\n",
    " "
   ]
  },
  {
   "cell_type": "markdown",
   "metadata": {},
   "source": [
    "<H2>Linear Regression"
   ]
  },
  {
   "cell_type": "code",
   "execution_count": null,
   "metadata": {},
   "outputs": [],
   "source": []
  }
 ],
 "metadata": {
  "kernelspec": {
   "display_name": "Python 3",
   "language": "python",
   "name": "python3"
  }
 },
 "nbformat": 4,
 "nbformat_minor": 2
}
