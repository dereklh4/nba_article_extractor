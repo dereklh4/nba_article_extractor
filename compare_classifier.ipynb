{
 "cells": [
  {
   "cell_type": "code",
   "execution_count": 15,
   "metadata": {},
   "outputs": [],
   "source": [
    "from sklearn.model_selection import StratifiedKFold\n",
    "from sklearn import tree\n",
    "from sklearn.metrics import precision_recall_fscore_support\n",
    "import pandas as pd\n",
    "import numpy as np\n",
    "\n",
    "df=pd.read_csv('data.csv')\n",
    "feature_data = df.drop(['label'], axis = 1)\n",
    "feature_data = feature_data.values\n",
    "label_data = df['label'].values"
   ]
  },
  {
   "cell_type": "markdown",
   "metadata": {},
   "source": [
    "<H2>Feature Data"
   ]
  },
  {
   "cell_type": "code",
   "execution_count": 4,
   "metadata": {},
   "outputs": [
    {
     "data": {
      "text/plain": [
       "array([[ 6,  1,  0, ...,  0,  0,  1],\n",
       "       [15,  2,  0, ...,  0,  1,  1],\n",
       "       [ 8,  1,  0, ...,  0,  0,  1],\n",
       "       ..., \n",
       "       [ 7,  1,  0, ...,  1,  0,  1],\n",
       "       [12,  1,  0, ...,  1,  0,  1],\n",
       "       [ 3,  1,  0, ...,  0,  0,  0]])"
      ]
     },
     "execution_count": 4,
     "metadata": {},
     "output_type": "execute_result"
    }
   ],
   "source": [
    "feature_data"
   ]
  },
  {
   "cell_type": "markdown",
   "metadata": {},
   "source": [
    "<H2>Label Data"
   ]
  },
  {
   "cell_type": "code",
   "execution_count": 5,
   "metadata": {},
   "outputs": [
    {
     "data": {
      "text/plain": [
       "array([0, 1, 0, ..., 0, 0, 0])"
      ]
     },
     "execution_count": 5,
     "metadata": {},
     "output_type": "execute_result"
    }
   ],
   "source": [
    "label_data"
   ]
  },
  {
   "cell_type": "markdown",
   "metadata": {},
   "source": [
    "<H2>Decision Tree Classifier"
   ]
  },
  {
   "cell_type": "code",
   "execution_count": 54,
   "metadata": {},
   "outputs": [
    {
     "name": "stdout",
     "output_type": "stream",
     "text": [
      "0.901085499734 0.878535861727 0.889120560316\n",
      "0.891200244718 0.874670842678 0.882551726185\n",
      "0.909743181962 0.913355910765 0.911532122155\n",
      "0.92116752949 0.914267959928 0.917656715241\n",
      "0.937733540847 0.936435218408 0.937082322195\n",
      "0.922131040088 0.912644805637 0.917273231459\n",
      "0.921703713282 0.917939589372 0.91980352692\n",
      "0.91328232305 0.910826871639 0.912046676622\n",
      "0.905985319029 0.898703622587 0.902273341718\n",
      "0.885192286647 0.893646492512 0.889315861019\n",
      "\n",
      "\n",
      "Average Precision: 0.910922467885\n",
      "Average Recall: 0.905102717525\n",
      "Average fscore: 0.907865608383\n"
     ]
    }
   ],
   "source": [
    "decisiontree_classifier = tree.DecisionTreeClassifier()\n",
    "n_splits = 10\n",
    "skf = StratifiedKFold(n_splits,random_state=1)\n",
    "skf.get_n_splits(feature_data,label_data)\n",
    "precision_list = []\n",
    "recall_list = []\n",
    "fscore_list = []\n",
    "for train_index, test_index in skf.split(feature_data,label_data):\n",
    "    decisiontree_classifier.fit(feature_data[train_index],label_data[train_index])\n",
    "    y_pred = decisiontree_classifier.predict(feature_data[test_index])\n",
    "    precision,recall,fscore,support = precision_recall_fscore_support(label_data[test_index],y_pred, average='macro')\n",
    "    print(precision,recall,fscore)\n",
    "    precision_list.append(precision)\n",
    "    recall_list.append(recall)\n",
    "    fscore_list.append(fscore)\n",
    "print(\"\\n\\nAverage Precision: \"+ str(sum(precision_list)/n_splits)+\n",
    "      \"\\nAverage Recall: \" + str(sum(recall_list)/n_splits)+\n",
    "      \"\\nAverage fscore: \"+ str(sum(fscore_list)/n_splits))\n"
   ]
  },
  {
   "cell_type": "markdown",
   "metadata": {},
   "source": [
    "<H2>Random Forest Classifier"
   ]
  },
  {
   "cell_type": "code",
   "execution_count": 59,
   "metadata": {},
   "outputs": [
    {
     "name": "stdout",
     "output_type": "stream",
     "text": [
      "0.916195921918 0.878255678363 0.895370708094\n",
      "0.898730869862 0.886771043689 0.892554561215\n",
      "0.915282824082 0.921366132226 0.918275866845\n",
      "0.931610606082 0.921938706111 0.926658572092\n",
      "0.933722780531 0.938828064567 0.936243138072\n",
      "0.924029523154 0.913213310469 0.918473244613\n",
      "0.930955520964 0.917992595458 0.924265771977\n",
      "0.920907611771 0.915890409044 0.918366749014\n",
      "0.909066197634 0.902345897911 0.90564603867\n",
      "0.891927917502 0.897685439752 0.894759818763\n",
      "\n",
      "\n",
      "Average Precision: 0.91724297735\n",
      "Average Recall: 0.909428727759\n",
      "Average fscore: 0.913061446936\n"
     ]
    }
   ],
   "source": [
    "from sklearn.ensemble import RandomForestClassifier\n",
    "randomforest_classifier = RandomForestClassifier()\n",
    "precision_list = []\n",
    "recall_list = []\n",
    "fscore_list = []\n",
    "for train_index, test_index in skf.split(feature_data,label_data):\n",
    "    randomforest_classifier.fit(feature_data[train_index],label_data[train_index])\n",
    "    y_pred = randomforest_classifier.predict(feature_data[test_index])\n",
    "    precision,recall,fscore,support = precision_recall_fscore_support(label_data[test_index], y_pred, average='macro')\n",
    "    print(precision,recall,fscore)\n",
    "    precision_list.append(precision)\n",
    "    recall_list.append(recall)\n",
    "    fscore_list.append(fscore)\n",
    "print(\"\\n\\nAverage Precision: \"+ str(sum(precision_list)/n_splits)+\n",
    "      \"\\nAverage Recall: \" + str(sum(recall_list)/n_splits)+\n",
    "      \"\\nAverage fscore: \"+ str(sum(fscore_list)/n_splits))\n"
   ]
  },
  {
   "cell_type": "markdown",
   "metadata": {},
   "source": [
    "<H2>SVM Classifier"
   ]
  },
  {
   "cell_type": "code",
   "execution_count": 8,
   "metadata": {},
   "outputs": [
    {
     "name": "stdout",
     "output_type": "stream",
     "text": [
      "(0.91172541362655424, 0.85865853786137558, 0.88152281746031758, None)\n",
      "(0.90001336081844552, 0.88983852835141741, 0.89478428146070144, None)\n",
      "(0.91237883415217103, 0.90438248633088847, 0.90829646520896334, None)\n",
      "(0.91037696070163598, 0.90733545621640843, 0.90884392360407118, None)\n",
      "(0.92050923870431423, 0.91486581887995233, 0.91764667248576426, None)\n",
      "(0.9019343965387131, 0.87228911732634973, 0.8859269537973582, None)\n",
      "(0.91043101030808204, 0.89557043868069597, 0.90270950277344131, None)\n",
      "(0.90655209573788897, 0.91840208203245144, 0.9122872278134837, None)\n",
      "(0.88822254967584457, 0.88242900679409875, 0.88527802425317947, None)\n",
      "(0.87304226973224353, 0.87304226973224353, 0.87304226973224353, None)\n"
     ]
    }
   ],
   "source": [
    "from sklearn import svm\n",
    "svm_clf = svm.SVC()\n",
    "precision_list = []\n",
    "recall_list = []\n",
    "fscore_list = []\n",
    "for train_index, test_index in skf.split(feature_data,label_data):\n",
    "    svm_clf.fit(feature_data[train_index],label_data[train_index])\n",
    "    y_pred = svm_clf.predict(feature_data[test_index])\n",
    "    precision,recall,fscore,support = precision_recall_fscore_support(label_data[test_index], y_pred, average='macro')\n",
    "    print(precision,recall,fscore)\n",
    "    precision_list.append(precision)\n",
    "    recall_list.append(recall)\n",
    "    fscore_list.append(fscore)\n",
    "print(\"\\n\\nAverage Precision: \"+ str(sum(precision_list)/n_splits)+\n",
    "      \"\\nAverage Recall: \" + str(sum(recall_list)/n_splits)+\n",
    "      \"\\nAverage fscore: \"+ str(sum(fscore_list)/n_splits))\n"
   ]
  },
  {
   "cell_type": "markdown",
   "metadata": {},
   "source": [
    "<H2>Linear Regression"
   ]
  },
  {
   "cell_type": "code",
   "execution_count": null,
   "metadata": {},
   "outputs": [],
   "source": []
  }
 ],
 "metadata": {
  "kernelspec": {
   "display_name": "Python 3",
   "language": "python",
   "name": "python3"
  },
  "language_info": {
   "codemirror_mode": {
    "name": "ipython",
    "version": 3
   },
   "file_extension": ".py",
   "mimetype": "text/x-python",
   "name": "python",
   "nbconvert_exporter": "python",
   "pygments_lexer": "ipython3",
   "version": "3.6.1"
  }
 },
 "nbformat": 4,
 "nbformat_minor": 2
}
